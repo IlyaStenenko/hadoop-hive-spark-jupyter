{
 "cells": [
  {
   "cell_type": "code",
   "execution_count": 1,
   "id": "e4e0857f-60fb-4e19-8c30-8db0f70c093f",
   "metadata": {},
   "outputs": [],
   "source": [
    "from pyspark.sql import SparkSession\n",
    "spark = SparkSession.builder \\\n",
    "    .appName(\"create_table_DM_ACCOUNT_TURNOVER_F\") \\\n",
    "    .enableHiveSupport() \\\n",
    "    .getOrCreate()"
   ]
  },
  {
   "cell_type": "code",
   "execution_count": 2,
   "id": "ed65bebc-0f58-494c-9dab-93243525766f",
   "metadata": {},
   "outputs": [
    {
     "data": {
      "text/plain": [
       "DataFrame[]"
      ]
     },
     "execution_count": 2,
     "metadata": {},
     "output_type": "execute_result"
    }
   ],
   "source": [
    "spark.sql(\"\"\"\n",
    "CREATE TABLE DM.DM_ACCOUNT_TURNOVER_F (\n",
    "    on_date STRING,\n",
    "    account_rk INT,\n",
    "    credit_amount DECIMAL(23,8),\n",
    "    credit_amount_rub DECIMAL(23,8),\n",
    "    debet_amount DECIMAL(23,8),\n",
    "    debet_amount_rub DECIMAL(23,8)\n",
    ")\n",
    "PARTITIONED BY (on_date)\n",
    "STORED AS PARQUET\n",
    "LOCATION '/user/hive/warehouse/dm.db/dm_account_turnover_f'\n",
    "\"\"\")"
   ]
  },
  {
   "cell_type": "code",
   "execution_count": 3,
   "id": "84cb7597-27a4-41bc-9b1c-74cf8d7084de",
   "metadata": {},
   "outputs": [],
   "source": [
    "#park.sql('DROP table DM.DM_ACCOUNT_TURNOVER_F')"
   ]
  },
  {
   "cell_type": "code",
   "execution_count": null,
   "id": "06a804c5-92e2-4731-a567-1911c3f0839a",
   "metadata": {},
   "outputs": [],
   "source": []
  }
 ],
 "metadata": {
  "kernelspec": {
   "display_name": "Python 3 (ipykernel)",
   "language": "python",
   "name": "python3"
  },
  "language_info": {
   "codemirror_mode": {
    "name": "ipython",
    "version": 3
   },
   "file_extension": ".py",
   "mimetype": "text/x-python",
   "name": "python",
   "nbconvert_exporter": "python",
   "pygments_lexer": "ipython3",
   "version": "3.11.6"
  }
 },
 "nbformat": 4,
 "nbformat_minor": 5
}
