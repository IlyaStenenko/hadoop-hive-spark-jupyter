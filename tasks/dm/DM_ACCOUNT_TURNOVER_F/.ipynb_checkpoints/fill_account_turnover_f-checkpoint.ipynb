{
 "cells": [
  {
   "cell_type": "code",
   "execution_count": 12,
   "id": "355b4541-0d81-47eb-b521-850531bd4597",
   "metadata": {},
   "outputs": [],
   "source": [
    "from pyspark.sql import SparkSession\n",
    "from pyspark.sql import functions as F\n",
    "from pyspark.sql import DataFrame\n",
    "spark = SparkSession.builder \\\n",
    "    .appName(\"fill_account_turnover_f\") \\\n",
    "    .enableHiveSupport() \\\n",
    "    .getOrCreate()"
   ]
  },
  {
   "cell_type": "code",
   "execution_count": 13,
   "id": "6e397bf6-d8a0-4665-97e3-34d1345997b4",
   "metadata": {},
   "outputs": [],
   "source": [
    "def fill_account_turnover_f(on_date: str) -> DataFrame:\n",
    "    #Загрузка таблиц\n",
    "    ft_posting_f = spark.read.parquet('/user/hive/warehouse/ds.db/ft_posting_f')\n",
    "    md_exchange_rate_d = spark.read.parquet('/user/hive/warehouse/ds.db/md_exchange_rate_d')\n",
    "\n",
    "    posting_on_date = ft_posting_f.where(F.col('oper_date') == on_date)\n",
    "    \n",
    "    #??? а нужно ли\n",
    "    credit_account_rk = posting_on_date.select(F.col('credit_account_rk').alias('account_rk'))\n",
    "    debet_account_rk = posting_on_date.select(F.col('debet_account_rk').alias('account_rk'))\n",
    "    account_rk = credit_account_rk.union(debet_account_rk).distinct();\n",
    "\n",
    "    posting_on_date = posting_on_date.join(account_rk, posting_on_date['credit_account_rk'] == account_rk['account_rk'], how = 'right')\n",
    "\n",
    "    #credit\n",
    "    credit_amount = posting_on_date\\\n",
    "    .filter(F.col(\"debet_amount\")\\\n",
    "    .isNotNull())\\\n",
    "    .groupby('account_rk')\\\n",
    "    .agg(F.round(F.sum('credit_amount'), 3).alias('credit_amount'))\n",
    "\n",
    "    #643 - это iso рубля?\n",
    "    data = md_exchange_rate_d \\\n",
    "        .filter(F.col('code_iso_num') == 643) \\\n",
    "        .orderBy(F.col('data_actual_end_date').desc()) \\\n",
    "        .select('data_actual_end_date', 'reduced_cource') \\\n",
    "        .first()\n",
    "\n",
    "    if data is None:\n",
    "        value = 1\n",
    "    else:\n",
    "    # Проверяем дату — если актуальна, берем reduced_cource, иначе 1\n",
    "        if data['data_actual_end_date'] >= on_date:\n",
    "            value = row['reduced_cource']\n",
    "        else:\n",
    "            value = 1\n",
    "\n",
    "    dm_account_turnover_f = credit_amount\\\n",
    "    .select('account_rk', 'credit_amount', (F.col('credit_amount') * value)\\\n",
    "    .alias('credit_amount_rub'))\n",
    "\n",
    "    #debit\n",
    "    debet_amount = posting_on_date\\\n",
    "    .filter(F.col(\"debet_amount\")\\\n",
    "    .isNotNull()) \\\n",
    "    .groupby('account_rk') \\\n",
    "    .agg(F.round(F.sum('debet_amount'), 3).alias('debet_amount'))\n",
    "\n",
    "    debet_amount_with_rub = debet_amount\\\n",
    "    .select('account_rk', 'debet_amount', (F.col('debet_amount'))\\\n",
    "    .alias('debet_amount_rub'))\n",
    "\n",
    "    #Объединение credit с debit\n",
    "    dm_account_turnover_f = dm_account_turnover_f\\\n",
    "    .join(debet_amount_with_rub, on = 'account_rk', how = 'inner')\n",
    "\n",
    "    return dm_account_turnover_f"
   ]
  },
  {
   "cell_type": "code",
   "execution_count": null,
   "id": "f1e3bbb3-c338-43ef-8efa-af4dc5de0ae1",
   "metadata": {},
   "outputs": [],
   "source": []
  }
 ],
 "metadata": {
  "kernelspec": {
   "display_name": "Python 3 (ipykernel)",
   "language": "python",
   "name": "python3"
  },
  "language_info": {
   "codemirror_mode": {
    "name": "ipython",
    "version": 3
   },
   "file_extension": ".py",
   "mimetype": "text/x-python",
   "name": "python",
   "nbconvert_exporter": "python",
   "pygments_lexer": "ipython3",
   "version": "3.11.6"
  }
 },
 "nbformat": 4,
 "nbformat_minor": 5
}
