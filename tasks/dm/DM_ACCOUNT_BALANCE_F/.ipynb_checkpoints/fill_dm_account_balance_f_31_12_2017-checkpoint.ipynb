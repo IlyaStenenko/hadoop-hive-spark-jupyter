{
 "cells": [
  {
   "cell_type": "code",
   "execution_count": 1,
   "id": "05d2ac73-ee8a-4934-8da2-fbec78d9d531",
   "metadata": {},
   "outputs": [],
   "source": [
    "from pyspark.sql import SparkSession\n",
    "from pyspark.sql import functions as F\n",
    "from pyspark.sql import DataFrame\n",
    "spark = SparkSession.builder \\\n",
    "    .appName(\"fill_account_balance_f\") \\\n",
    "    .enableHiveSupport() \\\n",
    "    .getOrCreate()"
   ]
  },
  {
   "cell_type": "code",
   "execution_count": 2,
   "id": "3c447b52-4582-4281-b224-b8a7a223eb73",
   "metadata": {},
   "outputs": [
    {
     "name": "stdout",
     "output_type": "stream",
     "text": [
      "+----------+----------+-----------+--------------+\n",
      "|   ON_DATE|ACCOUNT_RK|CURRENCY_RK|   BALANCE_OUT|\n",
      "+----------+----------+-----------+--------------+\n",
      "|31.12.2017|  36237725|         35|      38318.13|\n",
      "|31.12.2017|     24656|         35|      80533.62|\n",
      "|31.12.2017|  18849846|         34|      63891.96|\n",
      "|31.12.2017|   1972647|         34|     5087732.1|\n",
      "|31.12.2017|  34157174|         34|     7097806.9|\n",
      "|31.12.2017|  48829156|         34|      87620.47|\n",
      "|31.12.2017|     13905|         34|      129554.0|\n",
      "|31.12.2017|     17244|         34|    2025852.49|\n",
      "|31.12.2017|  34156787|         31|      32640.33|\n",
      "|31.12.2017|     17132|         34| 2.001137158E7|\n",
      "|31.12.2017|     13560|         34|    1055629.43|\n",
      "|31.12.2017|     17439|         34|     130813.42|\n",
      "|31.12.2017|     17434|         34|    5008133.82|\n",
      "|31.12.2017|     13630|         34|2.0007965012E8|\n",
      "|31.12.2017| 277937699|         34|      35341.17|\n",
      "|31.12.2017|     13906|         30|     194729.89|\n",
      "|31.12.2017|     14136|         31|      44626.61|\n",
      "|31.12.2017|     13904|         34|       5541.83|\n",
      "|31.12.2017|  34157147|         35|      13562.04|\n",
      "|31.12.2017|     14138|         44| 2.000362276E7|\n",
      "+----------+----------+-----------+--------------+\n",
      "only showing top 20 rows\n",
      "\n"
     ]
    }
   ],
   "source": [
    "ft_balance_f = spark.read.parquet('/user/hive/warehouse/ds.db/ft_balance_f')\n",
    "ft_balance_f.show()"
   ]
  },
  {
   "cell_type": "code",
   "execution_count": 6,
   "id": "c1b01b78-facc-4800-bdd9-d4252223eb54",
   "metadata": {},
   "outputs": [
    {
     "name": "stdout",
     "output_type": "stream",
     "text": [
      "+----------+----------+--------------+\n",
      "|   on_date|account_rk|   balance_out|\n",
      "+----------+----------+--------------+\n",
      "|31.12.2017|  36237725|      38318.13|\n",
      "|31.12.2017|     24656|      80533.62|\n",
      "|31.12.2017|  18849846|      63891.96|\n",
      "|31.12.2017|   1972647|     5087732.1|\n",
      "|31.12.2017|  34157174|     7097806.9|\n",
      "|31.12.2017|  48829156|      87620.47|\n",
      "|31.12.2017|     13905|      129554.0|\n",
      "|31.12.2017|     17244|    2025852.49|\n",
      "|31.12.2017|  34156787|      32640.33|\n",
      "|31.12.2017|     17132| 2.001137158E7|\n",
      "|31.12.2017|     13560|    1055629.43|\n",
      "|31.12.2017|     17439|     130813.42|\n",
      "|31.12.2017|     17434|    5008133.82|\n",
      "|31.12.2017|     13630|2.0007965012E8|\n",
      "|31.12.2017| 277937699|      35341.17|\n",
      "|31.12.2017|     13906|     194729.89|\n",
      "|31.12.2017|     14136|      44626.61|\n",
      "|31.12.2017|     13904|       5541.83|\n",
      "|31.12.2017|  34157147|      13562.04|\n",
      "|31.12.2017|     14138| 2.000362276E7|\n",
      "+----------+----------+--------------+\n",
      "only showing top 20 rows\n",
      "\n"
     ]
    }
   ],
   "source": [
    "dm_account_balance_f = ft_balance_f.where(F.col('on_date') == '31.12.2017')\\\n",
    ".select('on_date', 'account_rk', 'balance_out')\n",
    "dm_account_balance_f.show()"
   ]
  },
  {
   "cell_type": "code",
   "execution_count": null,
   "id": "2a1266e3-ccfb-4d42-9653-13aee2164981",
   "metadata": {},
   "outputs": [],
   "source": []
  }
 ],
 "metadata": {
  "kernelspec": {
   "display_name": "Python 3 (ipykernel)",
   "language": "python",
   "name": "python3"
  },
  "language_info": {
   "codemirror_mode": {
    "name": "ipython",
    "version": 3
   },
   "file_extension": ".py",
   "mimetype": "text/x-python",
   "name": "python",
   "nbconvert_exporter": "python",
   "pygments_lexer": "ipython3",
   "version": "3.11.6"
  }
 },
 "nbformat": 4,
 "nbformat_minor": 5
}
