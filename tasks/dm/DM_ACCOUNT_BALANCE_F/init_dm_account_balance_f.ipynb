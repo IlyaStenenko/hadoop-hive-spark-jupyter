{
 "cells": [
  {
   "cell_type": "code",
   "execution_count": 1,
   "id": "b689f387-4099-4ea8-8eec-cb02e61f3d8f",
   "metadata": {},
   "outputs": [],
   "source": [
    "from pyspark.sql import SparkSession\n",
    "\n",
    "spark = SparkSession.builder \\\n",
    "    .appName(\"Init_FT_POSTING_F\") \\\n",
    "    .enableHiveSupport() \\\n",
    "    .getOrCreate()"
   ]
  },
  {
   "cell_type": "code",
   "execution_count": null,
   "id": "b12edb92-c841-4446-b1b8-09e0f33b5f6e",
   "metadata": {},
   "outputs": [],
   "source": [
    "spark.sql(\"\"\"\n",
    "CREATE TABLE DM.DM_ACCOUNT_BALANCE_F (\n",
    "    on_date STRING,\n",
    "    account_rk INT,\n",
    "    DATA_ACTUAL_DATE\n",
    "    DATA_ACTUAL_END_DATE\n",
    "    CHAR_TYPE\n",
    "    ACCOUNT_NUMBER\n",
    "    credit_amount DECIMAL(23,8),\n",
    "    credit_amount_rub DECIMAL(23,8),\n",
    "    debet_amount DECIMAL(23,8),\n",
    "    debet_amount_rub DECIMAL(23,8)\n",
    ")\n",
    "PARTITIONED BY (on_date)\n",
    "STORED AS PARQUET\n",
    "LOCATION '/user/hive/warehouse/dm.db/dm_account_turnover_f'\n",
    "\"\"\")"
   ]
  }
 ],
 "metadata": {
  "kernelspec": {
   "display_name": "Python 3 (ipykernel)",
   "language": "python",
   "name": "python3"
  },
  "language_info": {
   "codemirror_mode": {
    "name": "ipython",
    "version": 3
   },
   "file_extension": ".py",
   "mimetype": "text/x-python",
   "name": "python",
   "nbconvert_exporter": "python",
   "pygments_lexer": "ipython3",
   "version": "3.11.6"
  }
 },
 "nbformat": 4,
 "nbformat_minor": 5
}
