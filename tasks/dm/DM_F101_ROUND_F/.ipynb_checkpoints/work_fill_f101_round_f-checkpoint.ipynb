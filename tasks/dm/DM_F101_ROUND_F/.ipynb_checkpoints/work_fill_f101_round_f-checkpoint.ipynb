{
 "cells": [
  {
   "cell_type": "code",
   "execution_count": 11,
   "id": "b750d159-5dbc-4893-8061-f30c92c7278d",
   "metadata": {},
   "outputs": [],
   "source": [
    "from pyspark.sql import SparkSession, Row\n",
    "from fill_f101_round_f import fill_f101_round_f\n",
    "from datetime import datetime\n",
    "import time\n",
    "import uuid\n",
    "\n",
    "spark = SparkSession.builder \\\n",
    "    .appName(\"fill_f101_round_f\") \\\n",
    "    .enableHiveSupport() \\\n",
    "    .getOrCreate()"
   ]
  },
  {
   "cell_type": "code",
   "execution_count": 12,
   "id": "edead96e-1e2d-4297-a1eb-40f2d1a957b0",
   "metadata": {},
   "outputs": [],
   "source": [
    "df = fill_f101_round_f('2018-02-01', spark)\n",
    "start_time = datetime.now()\n",
    "job_name = \"fill_f101_round_f\"\n",
    "status = \"SUCCESS\"\n",
    "df.write \\\n",
    "      .mode(\"overwrite\") \\\n",
    "      .partitionBy(\"ledger_account\") \\\n",
    "      .format(\"parquet\") \\\n",
    "      .saveAsTable(\"DM.DM_F101_ROUND_F\")\n",
    "time.sleep(5)\n",
    "\n",
    "end_time = datetime.now()\n",
    "\n",
    "log_row = Row(\n",
    "    id=str(uuid.uuid4()),\n",
    "    job_name=job_name,\n",
    "    start_time=start_time,\n",
    "    end_time=end_time,\n",
    "    status=status\n",
    ")\n",
    "log_df = spark.createDataFrame([log_row])\n",
    "log_df.write.mode(\"append\").insertInto(\"logs.LOGS\")"
   ]
  },
  {
   "cell_type": "code",
   "execution_count": null,
   "id": "432129fb-adb8-4637-a5ed-a7382b275f3a",
   "metadata": {},
   "outputs": [],
   "source": []
  }
 ],
 "metadata": {
  "kernelspec": {
   "display_name": "Python 3 (ipykernel)",
   "language": "python",
   "name": "python3"
  },
  "language_info": {
   "codemirror_mode": {
    "name": "ipython",
    "version": 3
   },
   "file_extension": ".py",
   "mimetype": "text/x-python",
   "name": "python",
   "nbconvert_exporter": "python",
   "pygments_lexer": "ipython3",
   "version": "3.11.6"
  }
 },
 "nbformat": 4,
 "nbformat_minor": 5
}
