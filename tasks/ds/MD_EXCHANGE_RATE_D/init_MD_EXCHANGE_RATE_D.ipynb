{
 "cells": [
  {
   "cell_type": "code",
   "execution_count": null,
   "id": "f43c5d4e-b6ea-40d8-aeae-39fcb2ceaeb8",
   "metadata": {},
   "outputs": [],
   "source": [
    "from pyspark.sql import SparkSession\n",
    "\n",
    "spark = SparkSession.builder \\\n",
    "    .appName(\"Init_MD_EXCHANGE_RATE_D\") \\\n",
    "    .enableHiveSupport() \\\n",
    "    .getOrCreate()"
   ]
  },
  {
   "cell_type": "code",
   "execution_count": null,
   "id": "135efa4e-d5bb-4bb4-9e5e-8b1b9e53154f",
   "metadata": {},
   "outputs": [],
   "source": [
    "spark.sql(\"\"\"\n",
    "    CREATE TABLE IF NOT EXISTS DS.MD_EXCHANGE_RATE_D (\n",
    "        data_actual_date DATE not null,\n",
    "        data_actual_end_date DATE,\n",
    "        currency_rk INT not null,\n",
    "        reduced_cource FLOAT,\n",
    "        code_iso_num VARCHAR(3)\n",
    "    )\n",
    "    STORED AS PARQUET\n",
    "\"\"\")"
   ]
  }
 ],
 "metadata": {
  "kernelspec": {
   "display_name": "Python 3 (ipykernel)",
   "language": "python",
   "name": "python3"
  },
  "language_info": {
   "codemirror_mode": {
    "name": "ipython",
    "version": 3
   },
   "file_extension": ".py",
   "mimetype": "text/x-python",
   "name": "python",
   "nbconvert_exporter": "python",
   "pygments_lexer": "ipython3",
   "version": "3.11.6"
  }
 },
 "nbformat": 4,
 "nbformat_minor": 5
}
