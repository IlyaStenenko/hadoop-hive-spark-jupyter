{
 "cells": [
  {
   "cell_type": "code",
   "execution_count": 1,
   "id": "fc52b012-ac1d-4170-93df-171019850f32",
   "metadata": {},
   "outputs": [],
   "source": [
    "from pyspark.sql import SparkSession\n",
    "import sys, os\n",
    "script_dir = os.path.abspath(os.path.join(os.getcwd(), \"..\", \"Scripts\"))\n",
    "if script_dir not in sys.path:\n",
    "    sys.path.insert(0, script_dir)\n",
    "from load_table_script import load_table_with_logging"
   ]
  },
  {
   "cell_type": "code",
   "execution_count": 2,
   "id": "05b6de6d-3a93-4c2e-ba8e-47cd72de174a",
   "metadata": {},
   "outputs": [],
   "source": [
    "spark = SparkSession.builder.enableHiveSupport().getOrCreate()"
   ]
  },
  {
   "cell_type": "code",
   "execution_count": 3,
   "id": "a83d29f8-e204-4300-a15e-4311842f7525",
   "metadata": {},
   "outputs": [],
   "source": [
    "load_table_with_logging(\"DS.MD_EXCHANGE_RATE_D\", \"/data/md_exchange_rate_d.csv\", spark)"
   ]
  }
 ],
 "metadata": {
  "kernelspec": {
   "display_name": "Python 3 (ipykernel)",
   "language": "python",
   "name": "python3"
  },
  "language_info": {
   "codemirror_mode": {
    "name": "ipython",
    "version": 3
   },
   "file_extension": ".py",
   "mimetype": "text/x-python",
   "name": "python",
   "nbconvert_exporter": "python",
   "pygments_lexer": "ipython3",
   "version": "3.11.6"
  }
 },
 "nbformat": 4,
 "nbformat_minor": 5
}
