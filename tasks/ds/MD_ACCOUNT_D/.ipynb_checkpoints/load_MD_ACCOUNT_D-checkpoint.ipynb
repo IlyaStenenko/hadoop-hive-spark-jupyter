{
 "cells": [
  {
   "cell_type": "code",
   "execution_count": 1,
   "id": "6290903a-174a-4756-817a-21536ab2c516",
   "metadata": {},
   "outputs": [],
   "source": [
    "from pyspark.sql import SparkSession\n",
    "import sys, os\n",
    "script_dir = os.path.abspath(os.path.join(os.getcwd(), \"..\", \"Scripts\"))\n",
    "if script_dir not in sys.path:\n",
    "    sys.path.insert(0, script_dir)\n",
    "from load_table_script import load_table_with_logging"
   ]
  },
  {
   "cell_type": "code",
   "execution_count": null,
   "id": "4895fcf3-d781-4fd3-b055-73457734ef17",
   "metadata": {},
   "outputs": [],
   "source": [
    "spark = SparkSession.builder.enableHiveSupport().getOrCreate()"
   ]
  },
  {
   "cell_type": "code",
   "execution_count": null,
   "id": "ff3bb883-ac60-4255-b6cf-82075d9e8b8f",
   "metadata": {},
   "outputs": [],
   "source": [
    "load_table_with_logging(\"DS.MD_ACCOUNT_D\", \"/data/md_account_d.csv\", spark)"
   ]
  }
 ],
 "metadata": {
  "kernelspec": {
   "display_name": "Python 3 (ipykernel)",
   "language": "python",
   "name": "python3"
  },
  "language_info": {
   "codemirror_mode": {
    "name": "ipython",
    "version": 3
   },
   "file_extension": ".py",
   "mimetype": "text/x-python",
   "name": "python",
   "nbconvert_exporter": "python",
   "pygments_lexer": "ipython3",
   "version": "3.11.6"
  }
 },
 "nbformat": 4,
 "nbformat_minor": 5
}
