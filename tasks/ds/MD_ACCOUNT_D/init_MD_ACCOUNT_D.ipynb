{
 "cells": [
  {
   "cell_type": "code",
   "execution_count": null,
   "id": "b44c7db7-e816-4211-817b-806d6423d583",
   "metadata": {},
   "outputs": [],
   "source": [
    "from pyspark.sql import SparkSession\n",
    "\n",
    "spark = SparkSession.builder \\\n",
    "    .appName(\"Init_MD_ACCOUNT_D\") \\\n",
    "    .enableHiveSupport() \\\n",
    "    .getOrCreate()"
   ]
  },
  {
   "cell_type": "code",
   "execution_count": null,
   "id": "581a9dbc-ea4c-40f6-8499-f47ce38d0dd7",
   "metadata": {},
   "outputs": [],
   "source": [
    "spark.sql(\"\"\"\n",
    "    CREATE TABLE IF NOT EXISTS DS.MD_ACCOUNT_D (\n",
    "        data_actual_date DATE not null,\n",
    "        data_actual_end_date DATE not null,\n",
    "        account_rk INT not null,\n",
    "        account_number VARCHAR(20) not null,\n",
    "        char_type VARCHAR(1) not null,\n",
    "        currency_rk INT not null,\n",
    "        currency_code VARCHAR(3) not null\n",
    "    )\n",
    "    STORED AS PARQUET\n",
    "\"\"\")"
   ]
  }
 ],
 "metadata": {
  "kernelspec": {
   "display_name": "Python 3 (ipykernel)",
   "language": "python",
   "name": "python3"
  },
  "language_info": {
   "codemirror_mode": {
    "name": "ipython",
    "version": 3
   },
   "file_extension": ".py",
   "mimetype": "text/x-python",
   "name": "python",
   "nbconvert_exporter": "python",
   "pygments_lexer": "ipython3",
   "version": "3.11.6"
  }
 },
 "nbformat": 4,
 "nbformat_minor": 5
}
