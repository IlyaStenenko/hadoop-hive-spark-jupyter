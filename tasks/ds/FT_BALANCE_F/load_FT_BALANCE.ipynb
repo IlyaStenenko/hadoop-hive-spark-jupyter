{
 "cells": [
  {
   "cell_type": "code",
   "execution_count": 1,
   "id": "6dcd0eee-fc0b-4e42-9a69-a21af127eedd",
   "metadata": {},
   "outputs": [],
   "source": [
    "from pyspark.sql import SparkSession\n",
    "import sys, os\n",
    "script_dir = os.path.abspath(os.path.join(os.getcwd(), \"..\", \"Scripts\"))\n",
    "if script_dir not in sys.path:\n",
    "    sys.path.insert(0, script_dir)\n",
    "from load_table_script import load_table_with_logging"
   ]
  },
  {
   "cell_type": "code",
   "execution_count": 2,
   "id": "b04b6ecc-e4e3-4509-90de-bcc605158427",
   "metadata": {},
   "outputs": [],
   "source": [
    "spark = SparkSession.builder.enableHiveSupport().getOrCreate()\n"
   ]
  },
  {
   "cell_type": "code",
   "execution_count": 3,
   "id": "1ee56dbd-4884-41b7-b42b-153fdb7d5e79",
   "metadata": {},
   "outputs": [],
   "source": [
    "load_table_with_logging(\"DS.FT_BALANCE_F\", \"/data/ft_balance_f.csv\", spark)"
   ]
  },
  {
   "cell_type": "code",
   "execution_count": null,
   "id": "decfb02a-40a6-4f50-ad4f-cb8a155f0a41",
   "metadata": {},
   "outputs": [],
   "source": []
  }
 ],
 "metadata": {
  "kernelspec": {
   "display_name": "Python 3 (ipykernel)",
   "language": "python",
   "name": "python3"
  },
  "language_info": {
   "codemirror_mode": {
    "name": "ipython",
    "version": 3
   },
   "file_extension": ".py",
   "mimetype": "text/x-python",
   "name": "python",
   "nbconvert_exporter": "python",
   "pygments_lexer": "ipython3",
   "version": "3.11.6"
  }
 },
 "nbformat": 4,
 "nbformat_minor": 5
}
