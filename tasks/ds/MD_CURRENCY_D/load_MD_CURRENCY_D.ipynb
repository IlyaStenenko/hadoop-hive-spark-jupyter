{
 "cells": [
  {
   "cell_type": "code",
   "execution_count": null,
   "id": "c73e3073-14e8-4fd3-a261-ceab785482a6",
   "metadata": {},
   "outputs": [],
   "source": [
    "from pyspark.sql import SparkSession\n",
    "import sys, os\n",
    "script_dir = os.path.abspath(os.path.join(os.getcwd(), \"..\", \"Scripts\"))\n",
    "if script_dir not in sys.path:\n",
    "    sys.path.insert(0, script_dir)\n",
    "from load_table_script import load_table_with_logging"
   ]
  },
  {
   "cell_type": "code",
   "execution_count": null,
   "id": "9064e669-b99c-41f1-9683-1c3551ffed27",
   "metadata": {},
   "outputs": [],
   "source": [
    "spark = SparkSession.builder.enableHiveSupport().getOrCreate()"
   ]
  },
  {
   "cell_type": "code",
   "execution_count": null,
   "id": "09ec6e60-53ce-4498-9091-4f102eda5996",
   "metadata": {},
   "outputs": [],
   "source": [
    "load_table_with_logging(\"DS.MD_CURRENCY_D\", \"/data/md_currency_d.csv\", spark)"
   ]
  }
 ],
 "metadata": {
  "kernelspec": {
   "display_name": "Python 3 (ipykernel)",
   "language": "python",
   "name": "python3"
  },
  "language_info": {
   "codemirror_mode": {
    "name": "ipython",
    "version": 3
   },
   "file_extension": ".py",
   "mimetype": "text/x-python",
   "name": "python",
   "nbconvert_exporter": "python",
   "pygments_lexer": "ipython3",
   "version": "3.11.6"
  }
 },
 "nbformat": 4,
 "nbformat_minor": 5
}
