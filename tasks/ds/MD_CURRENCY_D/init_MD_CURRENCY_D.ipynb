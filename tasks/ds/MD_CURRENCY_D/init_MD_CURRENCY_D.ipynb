{
 "cells": [
  {
   "cell_type": "code",
   "execution_count": null,
   "id": "eb4c6ea5-47c2-4123-84cc-ff5eb38aab2e",
   "metadata": {},
   "outputs": [],
   "source": [
    "from pyspark.sql import SparkSession\n",
    "\n",
    "spark = SparkSession.builder \\\n",
    "    .appName(\"Init_MD_CURRENCY_D\") \\\n",
    "    .enableHiveSupport() \\\n",
    "    .getOrCreate()"
   ]
  },
  {
   "cell_type": "code",
   "execution_count": null,
   "id": "c05287f6-c88b-4517-a600-74c67dccf63d",
   "metadata": {},
   "outputs": [],
   "source": [
    "spark.sql(\"\"\"\n",
    "    CREATE TABLE IF NOT EXISTS DS.MD_CURRENCY_D (\n",
    "        currency_rk INT not null,\n",
    "        data_actual_date DATE not null,\n",
    "        data_actual_end_date DATE,\n",
    "        currency_code VARCHAR(3),\n",
    "        code_iso_char VARCHAR(3)\n",
    "    )\n",
    "    STORED AS PARQUET\n",
    "\"\"\")"
   ]
  }
 ],
 "metadata": {
  "kernelspec": {
   "display_name": "Python 3 (ipykernel)",
   "language": "python",
   "name": "python3"
  },
  "language_info": {
   "codemirror_mode": {
    "name": "ipython",
    "version": 3
   },
   "file_extension": ".py",
   "mimetype": "text/x-python",
   "name": "python",
   "nbconvert_exporter": "python",
   "pygments_lexer": "ipython3",
   "version": "3.11.6"
  }
 },
 "nbformat": 4,
 "nbformat_minor": 5
}
