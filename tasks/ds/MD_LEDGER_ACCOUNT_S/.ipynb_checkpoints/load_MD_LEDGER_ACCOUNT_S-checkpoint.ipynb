{
 "cells": [
  {
   "cell_type": "code",
   "execution_count": 1,
   "id": "4da0b308-1f65-4b6b-8a26-bc2e08c141c6",
   "metadata": {},
   "outputs": [],
   "source": [
    "from pyspark.sql import SparkSession\n",
    "import sys, os\n",
    "script_dir = os.path.abspath(os.path.join(os.getcwd(), \"..\", \"Scripts\"))\n",
    "if script_dir not in sys.path:\n",
    "    sys.path.insert(0, script_dir)\n",
    "from load_table_script import load_table_with_logging"
   ]
  },
  {
   "cell_type": "code",
   "execution_count": 2,
   "id": "977f7de0-ba06-4f78-8018-8629c7608323",
   "metadata": {},
   "outputs": [],
   "source": [
    "spark = SparkSession.builder.enableHiveSupport().getOrCreate()"
   ]
  },
  {
   "cell_type": "code",
   "execution_count": null,
   "id": "cef7c1af-ed8e-4423-8a11-d049cdade8cd",
   "metadata": {},
   "outputs": [],
   "source": [
    "load_table_with_logging(\"DS.MD_LEDGER_ACCOUNT_S\", \"/data/md_ledger_account_s.csv\", spark)"
   ]
  }
 ],
 "metadata": {
  "kernelspec": {
   "display_name": "Python 3 (ipykernel)",
   "language": "python",
   "name": "python3"
  },
  "language_info": {
   "codemirror_mode": {
    "name": "ipython",
    "version": 3
   },
   "file_extension": ".py",
   "mimetype": "text/x-python",
   "name": "python",
   "nbconvert_exporter": "python",
   "pygments_lexer": "ipython3",
   "version": "3.11.6"
  }
 },
 "nbformat": 4,
 "nbformat_minor": 5
}
