{
 "cells": [
  {
   "cell_type": "code",
   "execution_count": 1,
   "id": "4da0b308-1f65-4b6b-8a26-bc2e08c141c6",
   "metadata": {},
   "outputs": [],
   "source": [
    "from pyspark.sql import SparkSession, Row\n",
    "from datetime import datetime\n",
    "import time\n",
    "import uuid"
   ]
  },
  {
   "cell_type": "code",
   "execution_count": 2,
   "id": "977f7de0-ba06-4f78-8018-8629c7608323",
   "metadata": {},
   "outputs": [],
   "source": [
    "spark = SparkSession.builder.enableHiveSupport().getOrCreate()\n",
    "\n",
    "def load_table_with_logging(table_name: str, csv_path: str):\n",
    "    start_time = datetime.now()\n",
    "    job_name = f\"load_{table_name}\"\n",
    "    status = \"SUCCESS\"\n",
    "\n",
    "    try:\n",
    "        df = spark.read.csv(csv_path, sep=';', header=True, inferSchema=True)\n",
    "        df.write.mode(\"overwrite\").saveAsTable(table_name)\n",
    "    except Exception as e:\n",
    "        status = \"FAILURE\"\n",
    "        print(f\"Error loading {table_name}: {e}\")\n",
    "\n",
    "    time.sleep(5)\n",
    "\n",
    "    end_time = datetime.now()\n",
    "\n",
    "    log_row = Row(\n",
    "        id=str(uuid.uuid4()),\n",
    "        job_name=job_name,\n",
    "        start_time=start_time,\n",
    "        end_time=end_time,\n",
    "        status=status\n",
    "    )\n",
    "    log_df = spark.createDataFrame([log_row])\n",
    "    log_df.write.mode(\"append\").insertInto(\"logs.LOGS\")"
   ]
  },
  {
   "cell_type": "code",
   "execution_count": null,
   "id": "cef7c1af-ed8e-4423-8a11-d049cdade8cd",
   "metadata": {},
   "outputs": [],
   "source": [
    "load_table_with_logging(\"DS.MD_LEDGER_ACCOUNT_S\", \"/data/md_ledger_account_s.csv\")"
   ]
  }
 ],
 "metadata": {
  "kernelspec": {
   "display_name": "Python 3 (ipykernel)",
   "language": "python",
   "name": "python3"
  },
  "language_info": {
   "codemirror_mode": {
    "name": "ipython",
    "version": 3
   },
   "file_extension": ".py",
   "mimetype": "text/x-python",
   "name": "python",
   "nbconvert_exporter": "python",
   "pygments_lexer": "ipython3",
   "version": "3.11.6"
  }
 },
 "nbformat": 4,
 "nbformat_minor": 5
}
