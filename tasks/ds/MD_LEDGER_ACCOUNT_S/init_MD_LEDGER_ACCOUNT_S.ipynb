{
 "cells": [
  {
   "cell_type": "code",
   "execution_count": null,
   "id": "243bde43-6089-4603-b8fb-9b9f48dac129",
   "metadata": {},
   "outputs": [],
   "source": [
    "from pyspark.sql import SparkSession\n",
    "\n",
    "spark = SparkSession.builder \\\n",
    "    .appName(\"Init_MD_LEDGER_ACCOUNT_S\") \\\n",
    "    .enableHiveSupport() \\\n",
    "    .getOrCreate()"
   ]
  },
  {
   "cell_type": "code",
   "execution_count": null,
   "id": "277a8ecc-2acd-4ba4-9229-381750c4d5dc",
   "metadata": {},
   "outputs": [],
   "source": [
    "spark.sql(\"\"\"\n",
    "    CREATE TABLE IF NOT EXISTS DS.MD_LEDGER_ACCOUNT_S (\n",
    "        chapter CHAR(1),\n",
    "        chapter_name VARCHAR(16),\n",
    "        section_number INT,\n",
    "        section_name VARCHAR(22),\n",
    "        subsection_name VARCHAR(21),\n",
    "        ledger1_account INT,\n",
    "        ledger1_account_name VARCHAR(47),\n",
    "        ledger_account INT not null,\n",
    "        ledger_account_name VARCHAR(153),\n",
    "        characteristic CHAR(1),\n",
    "        is_resident INT,\n",
    "        is_reserve INT,\n",
    "        is_reserved INT,\n",
    "        is_loan INT,\n",
    "        is_reserved_assets INT,\n",
    "        is_overdue INT,\n",
    "        is_interest INT,\n",
    "        pair_account VARCHAR(5),\n",
    "        start_date DATE not null,\n",
    "        end_date DATE,\n",
    "        is_rub_only INT,\n",
    "        min_term VARCHAR(1),\n",
    "        min_term_measure VARCHAR(1),\n",
    "        max_term VARCHAR(1),\n",
    "        max_term_measure VARCHAR(1),\n",
    "        ledger_acc_full_name_translit VARCHAR(1),\n",
    "        is_revaluation VARCHAR(1),\n",
    "        is_correct VARCHAR(1)\n",
    "    )\n",
    "    STORED AS PARQUET\n",
    "\"\"\")"
   ]
  }
 ],
 "metadata": {
  "kernelspec": {
   "display_name": "Python 3 (ipykernel)",
   "language": "python",
   "name": "python3"
  },
  "language_info": {
   "codemirror_mode": {
    "name": "ipython",
    "version": 3
   },
   "file_extension": ".py",
   "mimetype": "text/x-python",
   "name": "python",
   "nbconvert_exporter": "python",
   "pygments_lexer": "ipython3",
   "version": "3.11.6"
  }
 },
 "nbformat": 4,
 "nbformat_minor": 5
}
