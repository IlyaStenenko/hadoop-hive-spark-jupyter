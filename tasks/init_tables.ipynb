{
 "cells": [
  {
   "cell_type": "code",
   "execution_count": 1,
   "id": "6c7cd2f4-f394-42c7-8eb7-59dc9a2a81df",
   "metadata": {},
   "outputs": [],
   "source": [
    "from pyspark.sql import SparkSession\n",
    "\n",
    "spark = SparkSession.builder \\\n",
    "    .appName(\"InitTables\") \\\n",
    "    .enableHiveSupport() \\\n",
    "    .getOrCreate()"
   ]
  },
  {
   "cell_type": "code",
   "execution_count": 2,
   "id": "5c0d4da6-7fcc-4f0b-87b8-56ec5de0cc19",
   "metadata": {},
   "outputs": [
    {
     "data": {
      "text/plain": [
       "DataFrame[]"
      ]
     },
     "execution_count": 2,
     "metadata": {},
     "output_type": "execute_result"
    }
   ],
   "source": [
    "spark.sql(\"CREATE DATABASE IF NOT EXISTS DS\")"
   ]
  },
  {
   "cell_type": "code",
   "execution_count": 3,
   "id": "cb8a680a-569a-4617-bc28-54395b673fbd",
   "metadata": {},
   "outputs": [
    {
     "data": {
      "text/plain": [
       "DataFrame[]"
      ]
     },
     "execution_count": 3,
     "metadata": {},
     "output_type": "execute_result"
    }
   ],
   "source": [
    "spark.sql(\"\"\"\n",
    "    CREATE TABLE IF NOT EXISTS DS.FT_BALANCE_F (\n",
    "        on_date DATE not null,\n",
    "        account_rk INT not null,\n",
    "        currency_rk INT,\n",
    "        balance_out FLOAT\n",
    "    )\n",
    "    ROW FORMAT DELIMITED\n",
    "    FIELDS TERMINATED BY ';'\n",
    "    STORED AS TEXTFILE \n",
    "\"\"\")\n",
    "\n",
    "spark.sql(\"\"\"\n",
    "    CREATE TABLE IF NOT EXISTS DS.FT_POSTING_F (\n",
    "        oper_date DATE not null,\n",
    "        credit_account_rk INT not null,\n",
    "        debet_account_rk INT not null,\n",
    "        credit_amount FLOAT,\n",
    "        debet_amount FLOAT\n",
    "    )\n",
    "    ROW FORMAT DELIMITED\n",
    "    FIELDS TERMINATED BY ';'\n",
    "    STORED AS TEXTFILE\n",
    "\"\"\")\n",
    "\n",
    "spark.sql(\"\"\"\n",
    "    CREATE TABLE IF NOT EXISTS DS.MD_ACCOUNT_D (\n",
    "        data_actual_date DATE not null,\n",
    "        data_actual_end_date DATE not null,\n",
    "        account_rk INT not null,\n",
    "        account_number VARCHAR(20) not null,\n",
    "        char_type VARCHAR(1) not null,\n",
    "        currency_rk INT not null,\n",
    "        currency_code VARCHAR(3) not null\n",
    "    )\n",
    "    ROW FORMAT DELIMITED\n",
    "    FIELDS TERMINATED BY ';'\n",
    "    STORED AS TEXTFILE\n",
    "\"\"\")\n",
    "\n",
    "spark.sql(\"\"\"\n",
    "    CREATE TABLE IF NOT EXISTS DS.MD_CURRENCY_D (\n",
    "        currency_rk INT not null,\n",
    "        data_actual_date DATE not null,\n",
    "        data_actual_end_date DATE,\n",
    "        currency_code VARCHAR(3),\n",
    "        code_iso_char VARCHAR(3)\n",
    "    )\n",
    "    ROW FORMAT DELIMITED\n",
    "    FIELDS TERMINATED BY ';'\n",
    "    STORED AS TEXTFILE\n",
    "\"\"\")\n",
    "\n",
    "spark.sql(\"\"\"\n",
    "    CREATE TABLE IF NOT EXISTS DS.MD_EXCHANGE_RATE_D (\n",
    "        data_actual_date DATE not null,\n",
    "        data_actual_end_date DATE,\n",
    "        currency_rk INT not null,\n",
    "        reduced_cource FLOAT,\n",
    "        code_iso_num VARCHAR(3)\n",
    "    )\n",
    "    ROW FORMAT DELIMITED\n",
    "    FIELDS TERMINATED BY ';'\n",
    "    STORED AS TEXTFILE\n",
    "\"\"\")\n",
    "\n",
    "spark.sql(\"\"\"\n",
    "    CREATE TABLE IF NOT EXISTS DS.MD_LEDGER_ACCOUNT_S (\n",
    "        chapter CHAR(1),\n",
    "        chapter_name VARCHAR(16),\n",
    "        section_number INT,\n",
    "        section_name VARCHAR(22),\n",
    "        subsection_name VARCHAR(21),\n",
    "        ledger1_account INT,\n",
    "        ledger1_account_name VARCHAR(47),\n",
    "        ledger_account INT not null,\n",
    "        ledger_account_name VARCHAR(153),\n",
    "        characteristic CHAR(1),\n",
    "        is_resident INT,\n",
    "        is_reserve INT,\n",
    "        is_reserved INT,\n",
    "        is_loan INT,\n",
    "        is_reserved_assets INT,\n",
    "        is_overdue INT,\n",
    "        is_interest INT,\n",
    "        pair_account VARCHAR(5),\n",
    "        start_date DATE not null,\n",
    "        end_date DATE,\n",
    "        is_rub_only INT,\n",
    "        min_term VARCHAR(1),\n",
    "        min_term_measure VARCHAR(1),\n",
    "        max_term VARCHAR(1),\n",
    "        max_term_measure VARCHAR(1),\n",
    "        ledger_acc_full_name_translit VARCHAR(1),\n",
    "        is_revaluation VARCHAR(1),\n",
    "        is_correct VARCHAR(1)\n",
    "    )\n",
    "    ROW FORMAT DELIMITED\n",
    "    FIELDS TERMINATED BY ';'\n",
    "    STORED AS TEXTFILE\n",
    "\"\"\")\n"
   ]
  },
  {
   "cell_type": "code",
   "execution_count": 4,
   "id": "5ce136d4-482c-4fad-88a4-77f4910709e2",
   "metadata": {},
   "outputs": [
    {
     "data": {
      "text/plain": [
       "DataFrame[]"
      ]
     },
     "execution_count": 4,
     "metadata": {},
     "output_type": "execute_result"
    }
   ],
   "source": [
    "spark.sql(\"\"\"\n",
    "CREATE TABLE IF NOT EXISTS DS.LOGS (\n",
    "    id BIGINT,\n",
    "    job_name STRING,\n",
    "    start_time TIMESTAMP,\n",
    "    end_time TIMESTAMP,\n",
    "    status STRING\n",
    "    )\n",
    "    ROW FORMAT DELIMITED\n",
    "    FIELDS TERMINATED BY ';'\n",
    "    STORED AS TEXTFILE\n",
    "\"\"\")"
   ]
  },
  {
   "cell_type": "code",
   "execution_count": 5,
   "id": "869bd9f1-ce3f-4c4f-aada-36d0a994ff66",
   "metadata": {},
   "outputs": [
    {
     "name": "stdout",
     "output_type": "stream",
     "text": [
      "+---+--------+----------+--------+------+\n",
      "| id|job_name|start_time|end_time|status|\n",
      "+---+--------+----------+--------+------+\n",
      "+---+--------+----------+--------+------+\n",
      "\n"
     ]
    }
   ],
   "source": []
  },
  {
   "cell_type": "code",
   "execution_count": null,
   "id": "e9fb486f-9d14-4b86-89df-f072d88822d6",
   "metadata": {},
   "outputs": [],
   "source": []
  }
 ],
 "metadata": {
  "kernelspec": {
   "display_name": "Python 3 (ipykernel)",
   "language": "python",
   "name": "python3"
  },
  "language_info": {
   "codemirror_mode": {
    "name": "ipython",
    "version": 3
   },
   "file_extension": ".py",
   "mimetype": "text/x-python",
   "name": "python",
   "nbconvert_exporter": "python",
   "pygments_lexer": "ipython3",
   "version": "3.11.6"
  }
 },
 "nbformat": 4,
 "nbformat_minor": 5
}
